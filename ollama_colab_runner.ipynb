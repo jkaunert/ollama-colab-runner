{
  "nbformat": 4,
  "nbformat_minor": 0,
  "metadata": {
    "colab": {
      "provenance": [],
      "gpuType": "T4"
    },
    "kernelspec": {
      "name": "python3",
      "display_name": "Python 3"
    },
    "language_info": {
      "name": "python"
    },
    "accelerator": "GPU"
  },
  "cells": [
    {
      "cell_type": "markdown",
      "source": [
        "# <img src='https://ollama.com/public/ollama.png' alt=\"Ollama\"/>\n",
        "When running, select an instance with GPU<br>\n",
        "T4 for free ones, A100/L4 for paid subscribers<br><br>\n",
        "Run each of the 3 cells, before running your prompt.<br>\n",
        "If you interrupt execution, start the server again"
      ],
      "metadata": {
        "id": "nE_kmrLel_y4"
      }
    },
    {
      "cell_type": "code",
      "execution_count": null,
      "metadata": {
        "id": "JzG-3nviVQTM",
        "collapsed": true,
        "cellView": "form"
      },
      "outputs": [],
      "source": [
        "# @title Ollama Colab Runner\n",
        "!curl https://ollama.ai/install.sh | sh\n",
        "!pip install ollama\n",
        "\n",
        "!echo 'debconf debconf/frontend select Noninteractive' | sudo debconf-set-selections\n",
        "!sudo apt-get update && sudo apt-get install -y cuda-drivers\n",
        "\n",
        "import os\n",
        "\n",
        "# Set LD_LIBRARY_PATH so the system NVIDIA library\n",
        "os.environ.update({'LD_LIBRARY_PATH': '/usr/lib64-nvidia'})"
      ]
    },
    {
      "cell_type": "code",
      "source": [
        "# start server\n",
        "!nohup ollama serve &"
      ],
      "metadata": {
        "id": "0oEhDdPXVamH"
      },
      "execution_count": null,
      "outputs": []
    },
    {
      "cell_type": "code",
      "source": [
        "# @title Select your model\n",
        "model = \"deepseek-r1:1.5b\" # @param [\"deepseek-r1:1.5b\",\"deepseek-r1:14b\",\"deepseek-r1:32b\",\"deepseek-r1:70b\",\"deepseek-coder:6.7b\",\"deepseek-coder:1.3b\",\"deepseek-coder:33b\",\"llama3.3:70b\",\"gemma3:12b\",\"gemma3:27b\",\"phi4:14b\",\"mistral:7b\",\"qwen2.5:14b\",\"qwen2.5:7b\",\"qwen2.5:32b\",\"qwen2.5-coder:7b\",\"qwen2.5-coder:14b\",\"qwen2.5-coder:32b\"]\n",
        "!ollama pull {model}"
      ],
      "metadata": {
        "id": "O5toc_VkVffm",
        "collapsed": true,
        "cellView": "form"
      },
      "execution_count": null,
      "outputs": []
    },
    {
      "cell_type": "code",
      "source": [
        "# @title Questioning the model\n",
        "question = \"\" # @param {\"type\":\"string\"}\n",
        "from IPython.display import display, Markdown\n",
        "import ollama\n",
        "response = ollama.chat(model, messages=[\n",
        "  {\n",
        "    'role': 'user',\n",
        "    'content': question,\n",
        "  },\n",
        "])\n",
        "#print(response['message']['content'])\n",
        "display(Markdown(response['message']['content']))"
      ],
      "metadata": {
        "id": "n0CMtBUqV75y",
        "collapsed": true,
        "cellView": "form"
      },
      "execution_count": null,
      "outputs": []
    }
  ]
}